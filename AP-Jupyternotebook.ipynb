{
 "cells": [
  {
   "cell_type": "markdown",
   "metadata": {
    "deletable": false,
    "editable": false,
    "nbgrader": {
     "cell_type": "markdown",
     "checksum": "4960b55e03783fa5127d16313b334467",
     "grade": false,
     "grade_id": "cell-3923f17ae0a87128",
     "locked": true,
     "schema_version": 3,
     "solution": false
    }
   },
   "source": [
    "# Assignment 1: Planning using Heuristic Search\n",
    "\n",
    "**Felipe Meneguzzi**  \n",
    "**Mauricio Magnaguagno (PhD Student)**  \n",
    "**Leonardo Rosa Amado (PhD Student)**  \n",
    "**Gabriel Paludo Licks (MSc Student)**\n",
    "\n",
    "AI Planning (1982D-02):\n",
    "- Assigned: 14 May\n",
    "- Due: 14 June\n",
    "\n",
    "## Assignment Overview\n",
    "\n",
    "<img align=\"right\" src=\"planning-assignment.png\"/>\n",
    "\n",
    "The goal of this work is to implement the core functions of an automated planner and benchmark a number of heuristics. You will implement three main functions in this assignment:\n",
    "- Implement a number of heuristic functions\n",
    "    - **Max-Cost** ($h^{max}$)\n",
    "    - **Additive Cost** ($h^{add}$)\n",
    "    - **Relaxed Plan** ($h^{FF}$)\n",
    "    - **Critical Path** ($h^{m}$) *(Optional)*\n",
    "    - **Optimal Delete Relaxation** ($h^{+}$) *(Optional)*\n",
    "    -  **Landmark Heuristics** ($h^{LM}$ and $h^{LM-Cut}$) *(Optional)*\n",
    "    <!-- - **Operator Counting Heuristics** ($h^{OC}$) *(Optional)* -->\n",
    "- Implement a function capable of validating a plan given a domain and a problem.\n",
    "- Finally, implement the heuristic search **A\\***\n",
    "\n",
    "After implementing the required functions, you must write a 2-page paper. The entire package must be delivered using GitHub, where your implemented functions must be contained in this Jupyter Notebook, and the paper as a separate **pdf** file committed in the same Github repository (the template is in the ```paper``` folder).\n",
    "\n",
    "## Experimentation\n",
    "\n",
    "- You can test your implementation with the provided domains and problems:\n",
    "  - [blocksworld](examples/blocksworld)\n",
    "  - [dinner](examples/dinner)\n",
    "  - [dwr](examples/dwr)\n",
    "  - [tsp](examples/tsp)\n",
    "  - [dompteur](examples/dompteur)\n",
    "  - [logistics](examples/logistics)\n",
    "\n",
    "- Planning tools and extra domains and problems to sanity check your own implementation:\n",
    "  - [Web-Planner](https://web-planner.herokuapp.com/)\n",
    "  - [editor.planning.domains](http://editor.planning.domains/)\n",
    "  - IPC domains and problems can be found in [potassco/pddl-instances](https://github.com/potassco/pddl-instances)\n",
    "\n",
    "\n",
    "## Grading\n",
    "\n",
    "In order to properly evaluate your work and thought process, you will write a **2-page** report in the AAAI two-column format explaining your encoding and experiments. \n",
    "These guidelines are to be followed **exactly**. \n",
    "**Reports that are less than two pages of actual content, or not in format will receive 0 marks for the report criterion.** \n",
    "This report will be included in the deliverables of the assignment. \n",
    "[The formatting instructions are available at Overleaf (AAAI Press)](https://www.overleaf.com/latex/templates/aaai-press-latex-template/jymjdgdpdmxp). \n",
    "The report must have the following sections:\n",
    "\n",
    "- An introduction with your understanding of the problem domain, outlining the remainder of the paper;\n",
    "- Three sections explaining each part of your implementation (search, heuristic, and validator).\n",
    "- One experimentation section where you measure the performance of the planner using your action formalisation for each of the domains, on multiple problems.\n",
    "- One conclusion section, where you will summarise your experience in encoding planning domains and discuss the performance of the planner, and any limitations encountered in solving the problems you encoded.\n",
    "\n",
    "Grading will consider elements of your encoding, experimentation and reporting of the work done. \n",
    "The criteria, as well as their weight in the final grade is as follows:\n",
    "\n",
    "- Implementation (70%):\n",
    "  - Heuristic functions (30%):\n",
    "      - $h^{max}$ (10%);\n",
    "      - $h^{add}$ (10%);\n",
    "      - $h^{FF}$ (10%); and\n",
    "      - Any other heuristic and tests (10% bonus).\n",
    "  - Validator (10%);\n",
    "  - Heuristic search (30%):\n",
    "      - Correctness and optimality (20%); and\n",
    "      - Runtime efficiency (10%).\n",
    "- Overall report readability (20%) — how accessible and coherent your explanation of your implementation is;\n",
    "- Code readability (10%).\n",
    "\n",
    "## Collaboration Policy\n",
    "\n",
    "You must work on this project **individually**. \n",
    "You are free to discuss high-level design issues with the people in your class, but every aspect of your actual formalisation must be entirely your own work.\n",
    "Furthermore, there can be no textual similarities in the reports generated by each group. \n",
    "Plagiarism, no matter the degree, will result in forfeiture of the entire grade of this assignment.\n",
    "\n",
    "## Sections\n",
    "\n",
    "- [Heuristic](#Heuristic)\n",
    "  - [Implement the heuristic function](#Implement-the-heuristic-function)\n",
    "  - [Test heuristic function](#Test-heuristic-function)\n",
    "- [Validator](#Validator)\n",
    "  - [Implement the validate function](#Implement-the-validate-function)\n",
    "  - [Test validate function](#Test-validate-function)\n",
    "- [Planner](#Planner)\n",
    "  - [Implement the planner solve function](#Implement-the-planner-solve-function)\n",
    "  - [Test planner completeness and optimality](#Test-planner-completeness-and-optimality)\n",
    "  - [Test planner output time](#Test-planner-output-time)"
   ]
  },
  {
   "cell_type": "markdown",
   "metadata": {},
   "source": [
    "# Auxiliary code\n",
    "In this cell we provide two methods to aid you in your implementation. First, we provide a method to verify if an action is applicable, in a given a state (all positive preconditions are contained in the state, and no negative preconditions are contained in the state). Second, we provide a method to apply an action in a given state, returning the new resulting state.\n",
    "\n"
   ]
  },
  {
   "cell_type": "code",
   "execution_count": 27,
   "metadata": {
    "ExecuteTime": {
     "end_time": "2020-05-25T15:02:01.498463Z",
     "start_time": "2020-05-25T15:02:01.492487Z"
    }
   },
   "outputs": [],
   "source": [
    "def applicable(state, precondition):\n",
    "    positive, negative = precondition\n",
    "    return positive.issubset(state) and not negative.intersection(state)\n",
    "\n",
    "\n",
    "def apply(state, effects):\n",
    "    positive, negative = effects\n",
    "    return frozenset(state.difference(negative).union(positive))"
   ]
  },
  {
   "cell_type": "markdown",
   "metadata": {},
   "source": [
    "In the next cell, we detail some of the usage of the given base code. "
   ]
  },
  {
   "cell_type": "code",
   "execution_count": 2,
   "metadata": {
    "ExecuteTime": {
     "end_time": "2020-05-24T03:34:10.457862Z",
     "start_time": "2020-05-24T03:34:10.433843Z"
    }
   },
   "outputs": [
    {
     "name": "stdout",
     "output_type": "stream",
     "text": [
      "move\n",
      "['r1', 'l1', 'l2']\n",
      "frozenset({('at', 'r1', 'l1'), ('adjacent', 'l1', 'l2')})\n",
      "frozenset({('occupied', 'l2')})\n",
      "frozenset({('at', 'r1', 'l2'), ('occupied', 'l2')})\n",
      "frozenset({('at', 'r1', 'l1'), ('occupied', 'l1')})\n",
      "------------------------------\n",
      "Is the action move applicable? True\n",
      "------------------------------\n",
      "Resulting state:\n",
      "('empty', 'k1')\n",
      "('attached', 'q2', 'l2')\n",
      "('occupied', 'l2')\n",
      "('belong', 'k1', 'l1')\n",
      "('on', 'ca', 'pallet')\n",
      "('adjacent', 'l1', 'l2')\n",
      "('at', 'r1', 'l2')\n",
      "('attached', 'p1', 'l1')\n",
      "('adjacent', 'l2', 'l1')\n",
      "('empty', 'k2')\n",
      "------------------------------\n",
      "Was the goal achieved? False\n",
      "------------------------------\n"
     ]
    }
   ],
   "source": [
    "from pddl.action import Action\n",
    "\n",
    "# Objects example.\n",
    "\n",
    "# An action to move robot r1 from location l1 to location l2.\n",
    "a1 = Action(\n",
    "    \"move\",  # Action name\n",
    "    [\"r1\", \"l1\", \"l2\"],  # Parameters\n",
    "    frozenset({(\"at\", \"r1\", \"l1\"),\n",
    "               (\"adjacent\", \"l1\", \"l2\")}),  # Positive preconditions\n",
    "    frozenset({(\"occupied\", \"l2\")}),  # Negative preconditions\n",
    "    frozenset({(\"at\", \"r1\", \"l2\"), (\"occupied\", \"l2\")}),  # Add effects\n",
    "    frozenset({(\"at\", \"r1\", \"l1\"), (\"occupied\", \"l1\")})  # Del effects\n",
    ")\n",
    "\n",
    "# Get each element from the action.\n",
    "print(a1.name)\n",
    "print(a1.parameters)\n",
    "print(a1.positive_preconditions)\n",
    "print(a1.negative_preconditions)\n",
    "print(a1.add_effects)\n",
    "print(a1.del_effects)\n",
    "\n",
    "print(\"-\" * 30)\n",
    "\n",
    "# The list of actions contains all possible actions.\n",
    "actions = [\n",
    "    a1,\n",
    "    # ...\n",
    "]\n",
    "\n",
    "# Only positive literals are present in the initial state.\n",
    "initial_state = frozenset({\n",
    "    (\"on\", \"ca\", \"pallet\"),\n",
    "    (\"at\", \"r1\", \"l1\"),\n",
    "    (\"belong\", \"k1\", \"l1\"),\n",
    "    (\"adjacent\", \"l1\", \"l2\"),\n",
    "    (\"adjacent\", \"l2\", \"l1\"),\n",
    "    (\"attached\", \"q2\", \"l2\"),\n",
    "    (\"empty\", \"k2\"),\n",
    "    (\"attached\", \"p1\", \"l1\"),\n",
    "    (\"occupied\", \"l1\"),\n",
    "    (\"empty\", \"k1\"),\n",
    "    # ...\n",
    "})\n",
    "\n",
    "# Goal literals are splitted in two: positive and negative.\n",
    "positive_goal = frozenset({(\"in\", \"cb\", \"p1\"), (\"in\", \"ca\", \"p1\")})\n",
    "negative_goal = frozenset()\n",
    "\n",
    "# Test if the action move (variable a1) is applicable in our initial state (initial_state).\n",
    "applicable_action = applicable(\n",
    "    initial_state, (a1.positive_preconditions, a1.negative_preconditions)\n",
    ")\n",
    "print(\"Is the action move applicable?\", applicable_action)\n",
    "\n",
    "print(\"-\" * 30)\n",
    "\n",
    "# Apply the action move in the initial state.\n",
    "resulting_state = apply(initial_state, (a1.add_effects, a1.del_effects))\n",
    "print(\"Resulting state:\")\n",
    "for predicate in resulting_state:\n",
    "    print(predicate)\n",
    "\n",
    "print(\"-\" * 30)\n",
    "\n",
    "# Test if the goal was achieved.\n",
    "goal_achieved = applicable(resulting_state, (positive_goal, negative_goal))\n",
    "print(\"Was the goal achieved?\", goal_achieved)\n",
    "\n",
    "print(\"-\" * 30)\n",
    "\n",
    "# The output plan from the planner is either a list of actions or failure (None).\n",
    "# An empty plan is valid.\n",
    "plan = []\n",
    "# Preconditions and effects are empty when obtained from a plan file; may be filled when obtained from the planner.\n",
    "plan = [\n",
    "    Action(\"take\", [\"k1\", \"cc\", \"cb\", \"p1\", \"l1\"], [], [], [], []),\n",
    "    Action(\"load\", [\"k1\", \"r1\", \"cc\", \"l1\"], [], [], [], []),\n",
    "    Action(\"move\", [\"r1\", \"l1\", \"l2\"], [], [], [], []),\n",
    "    Action(\"unload\", [\"k2\", \"r1\", \"cc\", \"l2\"], [], [], [], []),\n",
    "    # ...\n",
    "]\n",
    "# Failure.\n",
    "plan = None\n",
    "\n",
    "# A valid plan is either true or false.\n",
    "valid_plan = True\n",
    "invalid_plan = False"
   ]
  },
  {
   "cell_type": "markdown",
   "metadata": {
    "deletable": false,
    "editable": false,
    "nbgrader": {
     "cell_type": "markdown",
     "checksum": "39047140bc3a6bc8b4cb4cadba8f4ab1",
     "grade": false,
     "grade_id": "cell-8821f1202522b75e",
     "locked": true,
     "schema_version": 3,
     "solution": false
    }
   },
   "source": [
    "# Heuristics\n",
    "\n",
    "## Implement heuristic functions\n",
    "\n",
    "\n",
    "### Max-cost\n",
    "You will implement the Max-cost heuristic. \n",
    "Return estimated distance between current ``state`` $s$ and ``goal`` $g$, a number between 0 (when $s \\models g$) and infinity (when $g$ is unreachable).\n",
    "\n",
    "$$\n",
    "h^{max}(s,g)=\\max_{g_i \\in g}\n",
    "\\begin{cases}\n",
    "0, & \\text{if } g_i \\in s\\\\\n",
    "\\min \\{cost(a) + h^{max}(s,pre(a))\\text{ | }a \\in A \\text{ and }g_i \\in \\text{eff}(a)\\} & \\text{otherwise}\\\\\n",
    "\\end{cases}\n",
    "$$\n",
    "\n",
    "where $cost(a)$ is the cost of action $a$ ($1$ if not specified), $pre(a)$ is the set of precoditions of action $a$, and $eff(a)$ is the set of effects of action $a$. Your code must be contained in the ``h(self, actions, state, goals)`` function in the cell below. You can create additional functions (do not forget to comment the code intelligibly). H takes the following inputs:\n",
    "- ``actions``: list of ground actions\n",
    "- ``state``: current state\n",
    "- ``goals``: tuple with (positive predicates, negative predicates) of the goal"
   ]
  },
  {
   "cell_type": "code",
   "execution_count": 5,
   "metadata": {
    "ExecuteTime": {
     "end_time": "2020-05-25T13:15:02.361913Z",
     "start_time": "2020-05-25T13:15:02.357381Z"
    },
    "deletable": false,
    "nbgrader": {
     "cell_type": "code",
     "checksum": "75cacd55bf462079e4554032d08cbe1d",
     "grade": false,
     "grade_id": "cell-5603c4df1ccebf1e",
     "locked": false,
     "schema_version": 3,
     "solution": true
    }
   },
   "outputs": [],
   "source": [
    "from pddl.heuristic import Heuristic\n",
    "\n",
    "\n",
    "class MaxHeuristic(Heuristic):\n",
    "    def h(self, actions, state, goals):\n",
    "        reachable = state\n",
    "        goals_missing = goals[0]\n",
    "        max_cost = 0\n",
    "        # While the goals are not in the state, keep searching.\n",
    "        while not goals_missing.issubset(reachable):\n",
    "            # Get all actions applicable to the current state level.\n",
    "            last_state = frozenset(\n",
    "                [a for a in actions if a.positive_preconditions.issubset(reachable)])\n",
    "            # The next state will contain all the actions from previous states,\n",
    "            # plus the effects actions when executing the actions applicable to the current state.\n",
    "            new_reachable = reachable.union(\n",
    "                [pre for a in last_state for pre in a.add_effects]\n",
    "            )\n",
    "            # When the next state is the same as the current state,\n",
    "            # it means that there are no more effect actions that can reach the goal.\n",
    "            if new_reachable == reachable:\n",
    "                return float(\"inf\")\n",
    "            reachable = new_reachable\n",
    "            max_cost += 1\n",
    "        return max_cost"
   ]
  },
  {
   "cell_type": "markdown",
   "metadata": {},
   "source": [
    "## Relaxed Planning Graph\n",
    "In this section, we provide a python implementation of how to build the Relaxed Planning Graph. You can use this implementation to obtain the max-cost heuristic, instead of the previous formula (with only a few modifications). Use wisely!\n",
    "\n",
    "```python\n",
    "def build_rpg(actions, state, goals):\n",
    "    i = 0\n",
    "    factlevel = [state]\n",
    "    actionlevel = []\n",
    "    positive_goals = goals[0]\n",
    "    while not positive_goals.issubset(factlevel[i]):\n",
    "        # actionlevel[i]\n",
    "        actionlevel.append([a for a in actions if a.positive_preconditions.issubset(factlevel[i])])\n",
    "        # factlevel[i+1]\n",
    "        factlevel.append(factlevel[i].union([pre for a in actionlevel[i] for pre in a.add_effects]))\n",
    "        if factlevel[i+1] == factlevel[i]:\n",
    "            return \"G unreachable\"\n",
    "        i += 1\n",
    "    return (factlevel, actionlevel)\n",
    "```"
   ]
  },
  {
   "cell_type": "markdown",
   "metadata": {
    "deletable": false,
    "editable": false,
    "nbgrader": {
     "cell_type": "markdown",
     "checksum": "e10385d0561e31541dfe3f47ff683627",
     "grade": false,
     "grade_id": "cell-88bd3f37acc82d70",
     "locked": true,
     "schema_version": 3,
     "solution": false,
     "task": false
    }
   },
   "source": [
    "### Additive\n",
    "You will implement the Additive heuristic. \n",
    "Return estimated distance between current ``state`` $s$ and ``goal`` $g$, a number between 0 (when $s \\models g$) and infinity (when $g$ is unreachable).\n",
    "\n",
    "$$\n",
    "h^{add}(s,g)=\\sum_{g_i \\in g}\n",
    "\\begin{cases}\n",
    "0, & \\text{if } g_i \\in s\\\\\n",
    "\\min \\{cost(a) + h^{add}(s,pre(a))\\text{ | }a \\in A \\text{ and }g_i \\in \\text{eff}(a)\\} & \\text{otherwise}\\\\\n",
    "\\end{cases}\n",
    "$$\n",
    "\n",
    "where $cost(a)$ is the cost of action $a$ ($1$ if not specified), $pre(a)$ is the set of precoditions of action $a$, and $eff(a)$ is the set of effects of action $a$. Your code must be contained in the ``h(self, actions, state, goals)`` function in the cell below. You can create additional functions (do not forget to comment the code intelligibly). H takes the following inputs:\n",
    "- ``actions``: list of ground actions\n",
    "- ``state``: current state\n",
    "- ``goals``: tuple with (positive predicates, negative predicates) of the goal"
   ]
  },
  {
   "cell_type": "code",
   "execution_count": 6,
   "metadata": {
    "ExecuteTime": {
     "end_time": "2020-05-25T13:15:02.370320Z",
     "start_time": "2020-05-25T13:15:02.363380Z"
    },
    "deletable": false,
    "nbgrader": {
     "cell_type": "code",
     "checksum": "5d7d405d0a97e1406e7a541116ff16ac",
     "grade": false,
     "grade_id": "cell-2a891126ec413602",
     "locked": false,
     "schema_version": 3,
     "solution": true,
     "task": false
    }
   },
   "outputs": [],
   "source": [
    "class AdditiveHeuristic(Heuristic):\n",
    "    def h(self, actions, state, goals):\n",
    "        reachable = state\n",
    "        goals_missing = goals[0]\n",
    "        goals_reached = None\n",
    "        last_state = None\n",
    "        add = 0\n",
    "        # The cost to reach goals that are in the initial state is zero.\n",
    "        costs = {p: 0 for p in state}\n",
    "        while last_state != reachable:\n",
    "            goals_reached = goals_missing.intersection(reachable)\n",
    "            if goals_reached:\n",
    "                # Sum the costs of the reached goals.\n",
    "                add += sum(costs[g] for g in goals_reached)\n",
    "                goals_missing = goals_missing.difference(goals_reached)\n",
    "            if not goals_missing:\n",
    "                return add\n",
    "\n",
    "            last_state = reachable\n",
    "\n",
    "            for action in actions:\n",
    "                # Test whether preconditions of the actions are in the state.\n",
    "                if action.positive_preconditions.issubset(last_state):\n",
    "                    new_reachable = action.add_effects.difference(reachable)\n",
    "                    # Loop over all new reachable state to get the cost of these actions.\n",
    "                    for effect in new_reachable:\n",
    "                        # The cost of the effect will be the sum of the costs of the preconditions plus 1, because it is the next step.\n",
    "                        costs[effect] = (\n",
    "                            sum(costs[pre]\n",
    "                                for pre in action.positive_preconditions) + 1\n",
    "                        )\n",
    "                    reachable = reachable.union(new_reachable)\n",
    "        return float(\"inf\")"
   ]
  },
  {
   "cell_type": "markdown",
   "metadata": {
    "deletable": false,
    "editable": false,
    "nbgrader": {
     "cell_type": "markdown",
     "checksum": "7b27442b97beed1ce8a61b9fca55b697",
     "grade": false,
     "grade_id": "cell-79b2a88f55ce1305",
     "locked": true,
     "schema_version": 3,
     "solution": false,
     "task": false
    }
   },
   "source": [
    "### Relaxed Plan\n",
    "You will implement the Relaxed Plan (a.k.a. Fast Forward) heuristic. \n",
    "Return estimated distance between current ``state`` $s$ and ``goal`` $g$, a number between 0 (when $s \\models g$) and infinity (when $g$ is unreachable).\n",
    "\n",
    "Notice that I've already implemented the code to build the best supporter for each predicate. The actual heuristic consists of computing a relaxed plan by backchaining from the goals via their best supporters and returning the size of the resulting relaxed plan. \n",
    "\n",
    "Your code must be contained in the ``h(self, actions, state, goals)`` function in the cell below. You can create additional functions (do not forget to comment the code intelligibly). H takes the following inputs:\n",
    "- ``actions``: list of ground actions\n",
    "- ``state``: current state\n",
    "- ``goals``: tuple with (positive predicates, negative predicates) of the goal"
   ]
  },
  {
   "cell_type": "code",
   "execution_count": 30,
   "metadata": {
    "ExecuteTime": {
     "end_time": "2020-05-25T15:02:17.359098Z",
     "start_time": "2020-05-25T15:02:17.342939Z"
    },
    "deletable": false,
    "nbgrader": {
     "cell_type": "code",
     "checksum": "9d2d81e7032d666b909430f653d3d4c6",
     "grade": false,
     "grade_id": "cell-83f043380d8c678c",
     "locked": false,
     "schema_version": 3,
     "solution": true,
     "task": false
    }
   },
   "outputs": [],
   "source": [
    "class FastForwardHeuristic(Heuristic):\n",
    "    def build_bs_table(self, actions, initial_state, goal):\n",
    "        self.empty_action = Action(\n",
    "            \"nop\", frozenset(), frozenset(), frozenset(), frozenset(), frozenset())\n",
    "        self.bs_table = dict()\n",
    "        return self.update_bs_table(actions, initial_state, goal)\n",
    "\n",
    "    def update_bs_table(self, actions, initial_state, goal):\n",
    "        positive_g, negative_g = goal\n",
    "        if not positive_g:\n",
    "            return 0\n",
    "        reachable = set(initial_state)\n",
    "        missing_positive_g = set(positive_g)\n",
    "        last_state = None\n",
    "        # Everything in the initial state costs 0.\n",
    "        t_add = {p: 0 for p in initial_state}\n",
    "        add = 0\n",
    "        while last_state != reachable:\n",
    "            g_reached = missing_positive_g.intersection(reachable)\n",
    "            if g_reached:\n",
    "                add += sum(t_add[g] for g in g_reached)\n",
    "                missing_positive_g -= g_reached\n",
    "                if not missing_positive_g:\n",
    "                    return add\n",
    "            last_state = set(reachable)\n",
    "            for a in actions:\n",
    "                if a.positive_preconditions <= last_state:\n",
    "                    new_reachable = a.add_effects - reachable\n",
    "                    for eff in new_reachable:\n",
    "                        if eff in t_add:\n",
    "                            old_t_add = t_add[eff]\n",
    "                            t_add[eff] = min(\n",
    "                                sum(t_add[pre] for pre in a.positive_preconditions)+1, t_add[eff])\n",
    "                            if t_add[eff] != old_t_add:\n",
    "                                # Best supporter changed.\n",
    "                                self.bs_table[eff] = a\n",
    "                        else:\n",
    "                            t_add[eff] = sum(t_add[pre]\n",
    "                                             for pre in a.positive_preconditions)+1\n",
    "                            self.bs_table[eff] = a\n",
    "                    reachable.update(new_reachable)\n",
    "        return float(\"inf\")\n",
    "\n",
    "    def best_supporter(self, actions, initial_state, g):\n",
    "        if g not in self.bs_table.keys():\n",
    "            return self.empty_action\n",
    "        return self.bs_table[g]\n",
    "\n",
    "    def h(self, actions, initial_state, goal):\n",
    "        # Build best supporter (I've done this for you).\n",
    "        add = self.build_bs_table(actions, initial_state, goal)\n",
    "        if add == 0:\n",
    "            return 0\n",
    "        elif add == float(\"inf\"):\n",
    "            return float(\"inf\")\n",
    "\n",
    "        r_plan = set()\n",
    "        actions_already_explored = set()\n",
    "        actions_to_explore = []\n",
    "\n",
    "        for g in goal[0]:\n",
    "            actions_to_explore.append(\n",
    "                self.best_supporter(actions, initial_state, g))\n",
    "            actions_already_explored.add(g)\n",
    "\n",
    "        while actions_to_explore:\n",
    "            action = actions_to_explore.pop()\n",
    "            if action.name != \"nop\" and action not in r_plan:\n",
    "                for precondition in action.positive_preconditions:\n",
    "                    if precondition not in actions_already_explored:\n",
    "                        actions_to_explore.append(self.best_supporter(\n",
    "                            actions, initial_state, precondition))\n",
    "                        actions_already_explored.add(precondition)\n",
    "                r_plan.add(action)\n",
    "\n",
    "        return len(r_plan)"
   ]
  },
  {
   "cell_type": "markdown",
   "metadata": {
    "deletable": false,
    "editable": false,
    "nbgrader": {
     "cell_type": "markdown",
     "checksum": "372fa5e6e4fb4d79f109014a746e788e",
     "grade": false,
     "grade_id": "cell-1f422426e53cbdc9",
     "locked": true,
     "schema_version": 3,
     "solution": false
    }
   },
   "source": [
    "## Test the heuristic functions\n",
    "\n",
    "We will test the Heuristics using 5 different domains, dinner, tsp, dwr, dompteur, and logistics. The state used is the initial state of each problem. \n",
    "\n",
    "At each execution we show the expected value for the heuristic."
   ]
  },
  {
   "cell_type": "code",
   "execution_count": 38,
   "metadata": {
    "ExecuteTime": {
     "end_time": "2020-05-25T16:35:53.610270Z",
     "start_time": "2020-05-25T16:35:53.334300Z"
    },
    "deletable": false,
    "nbgrader": {
     "cell_type": "code",
     "checksum": "d60be579d9fa376d1553244a5e042dfe",
     "grade": true,
     "grade_id": "cell-cc7f08e3c117042b",
     "locked": true,
     "points": 0,
     "schema_version": 3,
     "solution": false
    }
   },
   "outputs": [
    {
     "name": "stdout",
     "output_type": "stream",
     "text": [
      "Expected 6, got: 6. Correct!\n",
      "Expected 0, got: 0. Correct!\n",
      "Expected 2, got: 2. Correct!\n",
      "Expected 2, got: 2. Correct!\n",
      "Expected 1, got: 1. Correct!\n",
      "Expected 2, got: 2. Correct!\n",
      ":constants is not recognized in domain\n",
      "Expected 4, got: 4. Correct!\n",
      ":constants is not recognized in domain\n",
      "Expected 4, got: 4. Correct!\n",
      "------------------------------\n",
      "Expected 38, got: 38. Correct!\n",
      "Expected 0, got: 0. Correct!\n",
      "Expected 8, got: 8. Correct!\n",
      "Expected 8, got: 8. Correct!\n",
      "Expected 2, got: 2. Correct!\n",
      "Expected 2, got: 2. Correct!\n",
      ":constants is not recognized in domain\n",
      "Expected 7, got: 7. Correct!\n",
      ":constants is not recognized in domain\n",
      "Expected 10, got: 10. Correct!\n",
      "------------------------------\n",
      "Expected 16, got: 16. Correct!\n",
      "Expected 0, got: 0. Correct!\n",
      "Expected 5, got: 5. Correct!\n",
      "Expected 5, got: 5. Correct!\n",
      "Expected 2, got: 2. Correct!\n",
      "Expected 2, got: 2. Correct!\n",
      ":constants is not recognized in domain\n",
      "Expected 5, got: 5. Correct!\n",
      ":constants is not recognized in domain\n",
      "Expected 5, got: 5. Correct!\n"
     ]
    }
   ],
   "source": [
    "# Reset to non-editable.\n",
    "from pddl.pddl_parser import PDDLParser\n",
    "from pddl.action import Action\n",
    "\n",
    "\n",
    "# The following should be visible to the students.\n",
    "# Load some domain and some problem.\n",
    "dwr = \"examples/dwr/dwr.pddl\"\n",
    "pb1_dwr = \"examples/dwr/pb1.pddl\"\n",
    "pb2_dwr = \"examples/dwr/pb2.pddl\"\n",
    "\n",
    "tsp = \"examples/tsp/tsp.pddl\"\n",
    "pb1_tsp = \"examples/tsp/pb1.pddl\"\n",
    "pb2_tsp = \"examples/tsp/pb2.pddl\"\n",
    "\n",
    "dinner = \"examples/dinner/dinner.pddl\"\n",
    "pb1_dinner = \"examples/dinner/pb1.pddl\"\n",
    "\n",
    "dompteur = \"examples/dompteur/dompteur.pddl\"\n",
    "pb1_dompteur = \"examples/dompteur/pb1.pddl\"\n",
    "\n",
    "logistics = \"examples/logistics/logistics.pddl\"\n",
    "pb1_logistics = \"examples/logistics/pb1.pddl\"\n",
    "pb2_logistics = \"examples/logistics/pb2.pddl\"\n",
    "\n",
    "\n",
    "def parse_domain_problem(domain, problem):\n",
    "    parser = PDDLParser()\n",
    "    parser.parse_domain(domain)\n",
    "    parser.parse_problem(problem)\n",
    "    # Grounding process.\n",
    "    actions = []\n",
    "    for action in parser.actions:\n",
    "        for act in action.groundify(parser.objects):\n",
    "            actions.append(act)\n",
    "    return parser, actions\n",
    "\n",
    "\n",
    "def test_heuristic(domain, problem, h, expected):\n",
    "    parser, actions = parse_domain_problem(domain, problem)\n",
    "    v = h.h(actions, parser.state, (parser.positive_goals, parser.negative_goals))\n",
    "    print(\"Expected \" + str(expected) + \", got:\", str(v) +\n",
    "          (\". Correct!\" if v == expected else \". False!\"))\n",
    "\n",
    "\n",
    "h = MaxHeuristic()\n",
    "test_heuristic(dwr, pb1_dwr, h, 6)\n",
    "test_heuristic(dwr, pb2_dwr, h, 0)\n",
    "test_heuristic(tsp, pb1_tsp, h, 2)\n",
    "test_heuristic(tsp, pb2_tsp, h, 2)\n",
    "test_heuristic(dinner, pb1_dinner, h, 1)\n",
    "test_heuristic(dompteur, pb1_dompteur, h, 2)\n",
    "test_heuristic(logistics, pb1_logistics, h, 4)\n",
    "test_heuristic(logistics, pb2_logistics, h, 4)\n",
    "\n",
    "print(\"-\" * 30)\n",
    "\n",
    "h = AdditiveHeuristic()\n",
    "test_heuristic(dwr, pb1_dwr, h, 38)\n",
    "test_heuristic(dwr, pb2_dwr, h, 0)\n",
    "test_heuristic(tsp, pb1_tsp, h, 8)\n",
    "test_heuristic(tsp, pb2_tsp, h, 8)\n",
    "test_heuristic(dinner, pb1_dinner, h, 2)\n",
    "test_heuristic(dompteur, pb1_dompteur, h, 2)\n",
    "test_heuristic(logistics, pb1_logistics, h, 7)\n",
    "test_heuristic(logistics, pb2_logistics, h, 10)\n",
    "\n",
    "print(\"-\" * 30)\n",
    "\n",
    "h = FastForwardHeuristic()\n",
    "test_heuristic(dwr, pb1_dwr, h, 16)\n",
    "test_heuristic(dwr, pb2_dwr, h, 0)\n",
    "test_heuristic(tsp, pb1_tsp, h, 5)\n",
    "test_heuristic(tsp, pb2_tsp, h, 5)\n",
    "test_heuristic(dinner, pb1_dinner, h, 2)\n",
    "test_heuristic(dompteur, pb1_dompteur, h, 2)\n",
    "test_heuristic(logistics, pb1_logistics, h, 5)\n",
    "test_heuristic(logistics, pb2_logistics, h, 5)"
   ]
  },
  {
   "cell_type": "code",
   "execution_count": 23,
   "metadata": {
    "ExecuteTime": {
     "end_time": "2020-05-25T14:25:31.154613Z",
     "start_time": "2020-05-25T14:25:31.142697Z"
    },
    "deletable": false,
    "nbgrader": {
     "cell_type": "code",
     "checksum": "810a349e1d12c54c0ec08b53aaa92b58",
     "grade": true,
     "grade_id": "cell-5f06f993b6fad55a",
     "locked": true,
     "points": 0,
     "schema_version": 3,
     "solution": false,
     "task": false
    }
   },
   "outputs": [],
   "source": [
    "# Reset to non-editable.\n",
    "from nose.tools import assert_equal\n",
    "\n",
    "\n",
    "dompteur = \"examples/dompteur/dompteur.pddl\"\n",
    "pb1_dompteur = \"examples/dompteur/pb1.pddl\"\n",
    "\n",
    "logistics = \"examples/logistics/logistics.pddl\"\n",
    "pb1_logistics = \"examples/logistics/pb1.pddl\"\n",
    "pb2_logistics = \"examples/logistics/pb2.pddl\"\n",
    "\n",
    "\n",
    "def check_heuristic(domain, problem, h, expected):\n",
    "    parser, actions = parse_domain_problem(domain, problem)\n",
    "    v = h.h(actions, parser.state, (parser.positive_goals, parser.negative_goals))\n",
    "    print(\"Expected \" + str(expected) + \", got:\", str(v) +\n",
    "          (\". Correct!\" if v == expected else \". False!\"))\n",
    "    assert_equal(expected, v)"
   ]
  },
  {
   "cell_type": "code",
   "execution_count": 13,
   "metadata": {
    "ExecuteTime": {
     "end_time": "2020-05-25T13:15:21.595866Z",
     "start_time": "2020-05-25T13:15:21.589768Z"
    },
    "deletable": false,
    "editable": false,
    "nbgrader": {
     "cell_type": "code",
     "checksum": "f61e3f00bd2cfb0c130ca5750a038724",
     "grade": true,
     "grade_id": "ReinstantiateMax",
     "locked": true,
     "points": 0,
     "schema_version": 3,
     "solution": false,
     "task": false
    }
   },
   "outputs": [],
   "source": [
    "h = MaxHeuristic()"
   ]
  },
  {
   "cell_type": "code",
   "execution_count": null,
   "metadata": {
    "deletable": false,
    "editable": false,
    "nbgrader": {
     "cell_type": "code",
     "checksum": "a1f2acb8e51f6c91fef09ac47442abce",
     "grade": true,
     "grade_id": "MaxTest1",
     "locked": true,
     "points": 0.1,
     "schema_version": 3,
     "solution": false
    }
   },
   "outputs": [],
   "source": []
  },
  {
   "cell_type": "code",
   "execution_count": null,
   "metadata": {
    "deletable": false,
    "editable": false,
    "nbgrader": {
     "cell_type": "code",
     "checksum": "61087eed4d73f2718b23eb0814777448",
     "grade": true,
     "grade_id": "MaxTest2",
     "locked": true,
     "points": 0.1,
     "schema_version": 3,
     "solution": false
    }
   },
   "outputs": [],
   "source": []
  },
  {
   "cell_type": "code",
   "execution_count": null,
   "metadata": {
    "deletable": false,
    "editable": false,
    "nbgrader": {
     "cell_type": "code",
     "checksum": "e4e273795b68cdea4752366e5111dedd",
     "grade": true,
     "grade_id": "MaxTest3",
     "locked": true,
     "points": 0.1,
     "schema_version": 3,
     "solution": false
    }
   },
   "outputs": [],
   "source": []
  },
  {
   "cell_type": "code",
   "execution_count": null,
   "metadata": {
    "deletable": false,
    "editable": false,
    "nbgrader": {
     "cell_type": "code",
     "checksum": "0859b0b9dbbf9d623bd1edd9f30f5dca",
     "grade": true,
     "grade_id": "MaxTest4",
     "locked": true,
     "points": 0.1,
     "schema_version": 3,
     "solution": false
    }
   },
   "outputs": [],
   "source": []
  },
  {
   "cell_type": "code",
   "execution_count": null,
   "metadata": {
    "deletable": false,
    "editable": false,
    "nbgrader": {
     "cell_type": "code",
     "checksum": "63d41742fd56f10d3e4e3b5561890309",
     "grade": true,
     "grade_id": "MaxTest5",
     "locked": true,
     "points": 0.2,
     "schema_version": 3,
     "solution": false
    }
   },
   "outputs": [],
   "source": []
  },
  {
   "cell_type": "code",
   "execution_count": null,
   "metadata": {
    "deletable": false,
    "editable": false,
    "nbgrader": {
     "cell_type": "code",
     "checksum": "a3413bd6cfb572187925cb726b8d9d96",
     "grade": true,
     "grade_id": "MaxTest6",
     "locked": true,
     "points": 0.2,
     "schema_version": 3,
     "solution": false
    }
   },
   "outputs": [],
   "source": []
  },
  {
   "cell_type": "code",
   "execution_count": null,
   "metadata": {
    "deletable": false,
    "editable": false,
    "nbgrader": {
     "cell_type": "code",
     "checksum": "ef0ca6d4af93632e9671b8b47152e5ce",
     "grade": true,
     "grade_id": "MaxTest7",
     "locked": true,
     "points": 0.2,
     "schema_version": 3,
     "solution": false
    }
   },
   "outputs": [],
   "source": []
  },
  {
   "cell_type": "code",
   "execution_count": null,
   "metadata": {
    "deletable": false,
    "editable": false,
    "nbgrader": {
     "cell_type": "code",
     "checksum": "04974ff80218cae10a2e4890f341aed2",
     "grade": true,
     "grade_id": "ReinstantiateAdd",
     "locked": true,
     "points": 0,
     "schema_version": 3,
     "solution": false,
     "task": false
    }
   },
   "outputs": [],
   "source": [
    "h = AdditiveHeuristic()"
   ]
  },
  {
   "cell_type": "code",
   "execution_count": null,
   "metadata": {
    "deletable": false,
    "editable": false,
    "nbgrader": {
     "cell_type": "code",
     "checksum": "0ff22ba195bf5bd5360113679442ef6c",
     "grade": true,
     "grade_id": "AddTest1",
     "locked": true,
     "points": 0.1,
     "schema_version": 3,
     "solution": false
    }
   },
   "outputs": [],
   "source": []
  },
  {
   "cell_type": "code",
   "execution_count": null,
   "metadata": {
    "deletable": false,
    "editable": false,
    "nbgrader": {
     "cell_type": "code",
     "checksum": "7d06720b109c00be3b104d82292833ce",
     "grade": true,
     "grade_id": "AddTest2",
     "locked": true,
     "points": 0.1,
     "schema_version": 3,
     "solution": false
    }
   },
   "outputs": [],
   "source": []
  },
  {
   "cell_type": "code",
   "execution_count": null,
   "metadata": {
    "deletable": false,
    "editable": false,
    "nbgrader": {
     "cell_type": "code",
     "checksum": "3ef47d5417bac229f64d4dfa78d9c380",
     "grade": true,
     "grade_id": "AddTest3",
     "locked": true,
     "points": 0.1,
     "schema_version": 3,
     "solution": false
    }
   },
   "outputs": [],
   "source": []
  },
  {
   "cell_type": "code",
   "execution_count": null,
   "metadata": {
    "deletable": false,
    "editable": false,
    "nbgrader": {
     "cell_type": "code",
     "checksum": "68610b503956f441551de43733fd9f61",
     "grade": true,
     "grade_id": "AddTest4",
     "locked": true,
     "points": 0.1,
     "schema_version": 3,
     "solution": false
    }
   },
   "outputs": [],
   "source": []
  },
  {
   "cell_type": "code",
   "execution_count": null,
   "metadata": {
    "deletable": false,
    "editable": false,
    "nbgrader": {
     "cell_type": "code",
     "checksum": "12b1893af50106a688b6177d211b7e12",
     "grade": true,
     "grade_id": "AddTest5",
     "locked": true,
     "points": 0.2,
     "schema_version": 3,
     "solution": false
    }
   },
   "outputs": [],
   "source": []
  },
  {
   "cell_type": "code",
   "execution_count": null,
   "metadata": {
    "deletable": false,
    "editable": false,
    "nbgrader": {
     "cell_type": "code",
     "checksum": "e743cc8eca44786b5e35aa611f364865",
     "grade": true,
     "grade_id": "AddTest6",
     "locked": true,
     "points": 0.2,
     "schema_version": 3,
     "solution": false
    }
   },
   "outputs": [],
   "source": []
  },
  {
   "cell_type": "code",
   "execution_count": null,
   "metadata": {
    "deletable": false,
    "editable": false,
    "nbgrader": {
     "cell_type": "code",
     "checksum": "60ff2d8ddf3d3eb77f2b1f787b46547e",
     "grade": true,
     "grade_id": "AddTest7",
     "locked": true,
     "points": 0.2,
     "schema_version": 3,
     "solution": false
    }
   },
   "outputs": [],
   "source": []
  },
  {
   "cell_type": "code",
   "execution_count": null,
   "metadata": {
    "deletable": false,
    "editable": false,
    "nbgrader": {
     "cell_type": "code",
     "checksum": "cd3a412024011588fb809fd53a616376",
     "grade": true,
     "grade_id": "ReinstantiateFF",
     "locked": true,
     "points": 0,
     "schema_version": 3,
     "solution": false,
     "task": false
    }
   },
   "outputs": [],
   "source": [
    "h = FastForwardHeuristic()"
   ]
  },
  {
   "cell_type": "code",
   "execution_count": null,
   "metadata": {
    "deletable": false,
    "editable": false,
    "nbgrader": {
     "cell_type": "code",
     "checksum": "ac9482ff6b731e9d819178ded55c713f",
     "grade": true,
     "grade_id": "FFTest1",
     "locked": true,
     "points": 0.1,
     "schema_version": 3,
     "solution": false
    }
   },
   "outputs": [],
   "source": []
  },
  {
   "cell_type": "code",
   "execution_count": null,
   "metadata": {
    "deletable": false,
    "editable": false,
    "nbgrader": {
     "cell_type": "code",
     "checksum": "4d291f544f8888053e4a5c41f5416771",
     "grade": true,
     "grade_id": "FFTest2",
     "locked": true,
     "points": 0.1,
     "schema_version": 3,
     "solution": false
    }
   },
   "outputs": [],
   "source": []
  },
  {
   "cell_type": "code",
   "execution_count": null,
   "metadata": {
    "deletable": false,
    "editable": false,
    "nbgrader": {
     "cell_type": "code",
     "checksum": "1ab46d6b6eed4b543d82171161bfc602",
     "grade": true,
     "grade_id": "FFTest3",
     "locked": true,
     "points": 0.1,
     "schema_version": 3,
     "solution": false
    }
   },
   "outputs": [],
   "source": []
  },
  {
   "cell_type": "code",
   "execution_count": null,
   "metadata": {
    "deletable": false,
    "editable": false,
    "nbgrader": {
     "cell_type": "code",
     "checksum": "179d0b3da98df152037637f3e2f956fc",
     "grade": true,
     "grade_id": "FFTest4",
     "locked": true,
     "points": 0.1,
     "schema_version": 3,
     "solution": false
    }
   },
   "outputs": [],
   "source": []
  },
  {
   "cell_type": "code",
   "execution_count": null,
   "metadata": {
    "deletable": false,
    "editable": false,
    "nbgrader": {
     "cell_type": "code",
     "checksum": "c734b71bb33676b9f1576ade1f4a084d",
     "grade": true,
     "grade_id": "FFTest5",
     "locked": true,
     "points": 0.2,
     "schema_version": 3,
     "solution": false
    }
   },
   "outputs": [],
   "source": []
  },
  {
   "cell_type": "code",
   "execution_count": null,
   "metadata": {
    "deletable": false,
    "editable": false,
    "nbgrader": {
     "cell_type": "code",
     "checksum": "559f38241cd9ac5ecd2ff2a3503130b4",
     "grade": true,
     "grade_id": "FFTest6",
     "locked": true,
     "points": 0.2,
     "schema_version": 3,
     "solution": false
    }
   },
   "outputs": [],
   "source": []
  },
  {
   "cell_type": "code",
   "execution_count": null,
   "metadata": {
    "deletable": false,
    "editable": false,
    "nbgrader": {
     "cell_type": "code",
     "checksum": "bc8cd541ae365a7a38a7bea00914faf1",
     "grade": true,
     "grade_id": "FFTest7",
     "locked": true,
     "points": 0.2,
     "schema_version": 3,
     "solution": false
    }
   },
   "outputs": [],
   "source": []
  },
  {
   "cell_type": "markdown",
   "metadata": {
    "deletable": false,
    "editable": false,
    "nbgrader": {
     "cell_type": "markdown",
     "checksum": "68df1dfce2892b387551b6ff31a99d01",
     "grade": false,
     "grade_id": "cell-63c696138b8da552",
     "locked": true,
     "schema_version": 3,
     "solution": false,
     "task": false
    }
   },
   "source": [
    "### Other Heuristics\n",
    "\n",
    "You are free to implement any of the other heuristics seen in class for bonus points. "
   ]
  },
  {
   "cell_type": "code",
   "execution_count": null,
   "metadata": {
    "ExecuteTime": {
     "end_time": "2020-05-14T12:17:54.469983Z",
     "start_time": "2020-05-14T12:17:54.444659Z"
    },
    "deletable": false,
    "nbgrader": {
     "cell_type": "code",
     "checksum": "6a3482668585b5ead66af050df041969",
     "grade": false,
     "grade_id": "cell-023d5546ee5cb724",
     "locked": false,
     "schema_version": 3,
     "solution": true,
     "task": false
    }
   },
   "outputs": [],
   "source": [
    "class DeleteRelaxationHeuristic(Heuristic):\n",
    "    \"\"\"\n",
    "        Optimal Delete Relaxation Heuristic. \n",
    "        Please note, this heuristic is very slow, no matter how good your implementation is.    \n",
    "    \"\"\"\n",
    "\n",
    "    def h(self, actions, initial_state, goal):\n",
    "        # YOUR CODE HERE\n",
    "        raise NotImplementedError()\n",
    "        return float(\"inf\")\n",
    "\n",
    "\n",
    "class CriticalPathHeuristic(Heuristic):\n",
    "    \"\"\"\n",
    "        Haslum's H^m Heuristic\n",
    "    \"\"\"\n",
    "\n",
    "    def __init__(self, m, stats=None):\n",
    "        super().__init__(stats)\n",
    "        self.m = m\n",
    "        self.facts_at = []\n",
    "        self.mutexes_at = []\n",
    "        self.all_facts = None\n",
    "\n",
    "    def compute_all_facts(self, actions):\n",
    "        self.all_facts = set()\n",
    "        for a in actions:\n",
    "            self.all_facts |= a.add_effects\n",
    "            self.all_facts |= a.positive_preconditions\n",
    "            self.all_facts |= a.del_effects\n",
    "            self.all_facts |= a.negative_preconditions\n",
    "        self.all_facts = frozenset(self.all_facts)\n",
    "\n",
    "    # You can put any additional methods here, please erase the \"raise NotImplementedError()\" line below.\n",
    "    # YOUR CODE HERE\n",
    "    raise NotImplementedError()\n",
    "\n",
    "    def h(self, actions, initial_state, goal):\n",
    "        if not self.all_facts:  # Cache all facts the first time this this is called\n",
    "            self.compute_all_facts(actions)\n",
    "\n",
    "        # YOUR CODE HERE\n",
    "        raise NotImplementedError()\n",
    "\n",
    "\n",
    "class LMCutHeuristic(Heuristic):\n",
    "    def h(self, actions, initial_state, goal):\n",
    "        # YOUR CODE HERE\n",
    "        raise NotImplementedError()\n",
    "        return float(\"inf\")"
   ]
  },
  {
   "cell_type": "code",
   "execution_count": null,
   "metadata": {
    "deletable": false,
    "editable": false,
    "nbgrader": {
     "cell_type": "code",
     "checksum": "8b970f2cefb7a378c8c79cc4ed543a8f",
     "grade": true,
     "grade_id": "cell-9e8a94718fc19ba3",
     "locked": true,
     "points": 0,
     "schema_version": 3,
     "solution": false,
     "task": false
    }
   },
   "outputs": [],
   "source": [
    "## TODO, do something here"
   ]
  },
  {
   "cell_type": "markdown",
   "metadata": {
    "deletable": false,
    "editable": false,
    "nbgrader": {
     "cell_type": "markdown",
     "checksum": "8a75a28b992a0cd957223416578d5612",
     "grade": false,
     "grade_id": "cell-b65d3e7b06ea9df1",
     "locked": true,
     "schema_version": 3,
     "solution": false
    }
   },
   "source": [
    "# Validator\n",
    "\n",
    "## Implement the validate function\n",
    "You will now implement a validator capable of verifying if a plan is valid to a specific domain and problem. The validator must return **True** if and only if the given plan is applicable and reaches the specified goal, and **False** if the plan itself is **not** applicable **or**  the given plan does **not** achieve the specified goal. Your code must be contained in the ```validate(self, actions, initial_state, goals, plan)``` function in the cell below. You can create additional functions (do not forget to comment the code intelligibly). Validate takes the following inputs:\n",
    "- ``actions``: list of ground actions\n",
    "- ``initial_state``: initial state of the problem file\n",
    "- ``goals``: tuple with (positive predicates, negative predicates) of the goal\n",
    "- ``plan``: plan parsed from a plan trace"
   ]
  },
  {
   "cell_type": "code",
   "execution_count": 13,
   "metadata": {
    "ExecuteTime": {
     "end_time": "2020-05-24T03:38:52.184805Z",
     "start_time": "2020-05-24T03:38:52.172141Z"
    },
    "deletable": false,
    "nbgrader": {
     "cell_type": "code",
     "checksum": "56861d952d46b18744da3b507ebf8745",
     "grade": false,
     "grade_id": "cell-76b19c0ef756aadd",
     "locked": false,
     "schema_version": 3,
     "solution": true
    }
   },
   "outputs": [],
   "source": [
    "from pddl.pddl_parser import PDDLParser\n",
    "from pddl.action import Action\n",
    "\n",
    "\n",
    "class Validator:\n",
    "    def parse_plan(self, filename):\n",
    "        with open(filename, \"r\") as f:\n",
    "            plan = []\n",
    "            for act in f.read().splitlines():\n",
    "                act = act[1:-1].split()\n",
    "                plan.append(Action(act[0], tuple(act[1:]), [], [], [], []))\n",
    "            return plan\n",
    "\n",
    "    def validate_file(self, domainfile, problemfile, planfile):\n",
    "        return self.validate_plan(domainfile, problemfile, self.parse_plan(planfile))\n",
    "\n",
    "    def validate_plan(self, domainfile, problemfile, plan):\n",
    "        # Parser.\n",
    "        parser = PDDLParser()\n",
    "        parser.parse_domain(domainfile)\n",
    "        parser.parse_problem(problemfile)\n",
    "        # Grounding process.\n",
    "        ground_actions = []\n",
    "        for action in parser.actions:\n",
    "            for act in action.groundify(parser.objects):\n",
    "                ground_actions.append(act)\n",
    "        return self.validate(ground_actions, parser.state, (parser.positive_goals, parser.negative_goals), plan)\n",
    "\n",
    "    def validate(self, actions, initial_state, goals, plan):\n",
    "        \"\"\"\n",
    "            actions: list of ground actions\n",
    "            initial_state: initial state of the problem file\n",
    "            goals: tuple with (positive predicates, negative predicates) of the goal\n",
    "            plan: plan parsed from a plan trace\n",
    "        \"\"\"\n",
    "        state = initial_state\n",
    "        for line in plan:\n",
    "            for action in actions:\n",
    "                if line.parameters == action.parameters:\n",
    "                    # I do not think this test is necessary, but I will keep it just to be sure.\n",
    "                    if applicable(\n",
    "                        state, (action.positive_preconditions,\n",
    "                                action.negative_preconditions)\n",
    "                    ):\n",
    "                        state = apply(\n",
    "                            state, (action.add_effects, action.del_effects))\n",
    "                        break\n",
    "\n",
    "        goals_reached = goals[0].intersection(state)\n",
    "        return goals_reached == goals[0]"
   ]
  },
  {
   "cell_type": "markdown",
   "metadata": {
    "deletable": false,
    "editable": false,
    "nbgrader": {
     "cell_type": "markdown",
     "checksum": "57b0f4b1a8b05a4c5a0d68e8adb99df0",
     "grade": false,
     "grade_id": "cell-55fe55549d93781e",
     "locked": true,
     "schema_version": 3,
     "solution": false
    }
   },
   "source": [
    "## Test the validate function\n",
    "In this test, we verify the correctness of the implemented validator using the **[dwr](examples/dwr)** domain. Consider running more tests to ensure the correctness of the implemented function."
   ]
  },
  {
   "cell_type": "code",
   "execution_count": 14,
   "metadata": {
    "ExecuteTime": {
     "end_time": "2020-05-24T03:38:53.943492Z",
     "start_time": "2020-05-24T03:38:53.747954Z"
    },
    "deletable": false,
    "nbgrader": {
     "cell_type": "code",
     "checksum": "4596154881a9142945bc598ebe18eb36",
     "grade": true,
     "grade_id": "validator-tests",
     "locked": true,
     "points": 0,
     "schema_version": 3,
     "solution": false
    }
   },
   "outputs": [
    {
     "name": "stdout",
     "output_type": "stream",
     "text": [
      "Expected True, got: True\n",
      "Expected True, got: True\n",
      "Expected True, got: True\n",
      "Expected False, got: False\n"
     ]
    }
   ],
   "source": [
    "# Reset to non-editable.\n",
    "dwr = \"examples/dwr/dwr.pddl\"\n",
    "pb1 = \"examples/dwr/pb1.pddl\"\n",
    "plan1 = \"examples/dwr/dwr_pb1_bfs.plan\"\n",
    "plan2 = \"examples/dwr/dwr_pb1_heuristic.plan\"\n",
    "plan_empty = \"examples/dwr/empty.plan\"\n",
    "my_plan = \"examples/dwr/my_pb1_plan.plan\"\n",
    "val = Validator()\n",
    "print(\"Expected True, got:\", str(val.validate_file(dwr, pb1, plan1)))\n",
    "print(\"Expected True, got:\", str(val.validate_file(dwr, pb1, plan2)))\n",
    "print(\"Expected True, got:\", str(val.validate_file(dwr, pb1, my_plan)))\n",
    "print(\"Expected False, got:\", str(val.validate_file(dwr, pb1, plan_empty)))"
   ]
  },
  {
   "cell_type": "code",
   "execution_count": null,
   "metadata": {
    "deletable": false,
    "editable": false,
    "nbgrader": {
     "cell_type": "code",
     "checksum": "0e300f3f0ad20fa027731a5527a5b004",
     "grade": true,
     "grade_id": "cell-9e092d19fabbb1ae",
     "locked": true,
     "points": 0.2,
     "schema_version": 3,
     "solution": false
    }
   },
   "outputs": [],
   "source": []
  },
  {
   "cell_type": "code",
   "execution_count": null,
   "metadata": {
    "deletable": false,
    "editable": false,
    "nbgrader": {
     "cell_type": "code",
     "checksum": "4e49a61f753497b6ec87868a601300a6",
     "grade": true,
     "grade_id": "cell-f79c9de082a91c04",
     "locked": true,
     "points": 0.3,
     "schema_version": 3,
     "solution": false
    }
   },
   "outputs": [],
   "source": []
  },
  {
   "cell_type": "code",
   "execution_count": null,
   "metadata": {
    "deletable": false,
    "editable": false,
    "nbgrader": {
     "cell_type": "code",
     "checksum": "7f5530573cf047aac619735a41c1ecee",
     "grade": true,
     "grade_id": "cell-60fef55dca061cc3",
     "locked": true,
     "points": 0,
     "schema_version": 3,
     "solution": false
    }
   },
   "outputs": [],
   "source": []
  },
  {
   "cell_type": "code",
   "execution_count": null,
   "metadata": {
    "deletable": false,
    "editable": false,
    "nbgrader": {
     "cell_type": "code",
     "checksum": "422f368fa6024c0aa3022e791b947c33",
     "grade": true,
     "grade_id": "cell-d5acb35a76a544e8",
     "locked": true,
     "points": 0.2,
     "schema_version": 3,
     "solution": false
    }
   },
   "outputs": [],
   "source": []
  },
  {
   "cell_type": "code",
   "execution_count": null,
   "metadata": {
    "deletable": false,
    "editable": false,
    "nbgrader": {
     "cell_type": "code",
     "checksum": "314283394208f3ae26e3c09589bb3002",
     "grade": true,
     "grade_id": "cell-b0afd200518452eb",
     "locked": true,
     "points": 0.1,
     "schema_version": 3,
     "solution": false
    }
   },
   "outputs": [],
   "source": []
  },
  {
   "cell_type": "code",
   "execution_count": null,
   "metadata": {
    "deletable": false,
    "editable": false,
    "nbgrader": {
     "cell_type": "code",
     "checksum": "35ac04814e6586d7e5dd4cb32f01e577",
     "grade": true,
     "grade_id": "cell-3207d343e162d2da",
     "locked": true,
     "points": 0.1,
     "schema_version": 3,
     "solution": false
    }
   },
   "outputs": [],
   "source": []
  },
  {
   "cell_type": "code",
   "execution_count": null,
   "metadata": {
    "deletable": false,
    "editable": false,
    "nbgrader": {
     "cell_type": "code",
     "checksum": "10b564c0bf805a9ccfc1be20ea47b0c5",
     "grade": true,
     "grade_id": "cell-64d04d81edd885c5",
     "locked": true,
     "points": 0.1,
     "schema_version": 3,
     "solution": false
    }
   },
   "outputs": [],
   "source": []
  },
  {
   "cell_type": "markdown",
   "metadata": {
    "deletable": false,
    "editable": false,
    "nbgrader": {
     "cell_type": "markdown",
     "checksum": "e9cc39e2b843313297263ae637e56ce3",
     "grade": false,
     "grade_id": "cell-39eca486536e5e39",
     "locked": true,
     "schema_version": 3,
     "solution": false
    }
   },
   "source": [
    "# Planner\n",
    "\n",
    "## Implement the planner ```solve``` function\n",
    "You will implement the **A\\*** search. This search must use the implemented **Max-cost** heuristic. The search receives a **domain** pddl file and a **problem** pddl file (both are already parsed for you). The search must always return an optimal plan, given that there is a solution for the given problem in the specified domain. Your code must be contained in the ``solve(self, actions, state, goals)`` function (in the following cell). Solve takes the following inputs:\n",
    "- ``actions``: list of grounded actions\n",
    "- ``state``: initial state of the problem file\n",
    "- ``goals``: tuple with (positive predicates, negative predicates) of the goal"
   ]
  },
  {
   "cell_type": "code",
   "execution_count": 48,
   "metadata": {
    "ExecuteTime": {
     "end_time": "2020-05-25T17:26:25.528003Z",
     "start_time": "2020-05-25T17:26:25.501492Z"
    },
    "deletable": false,
    "nbgrader": {
     "cell_type": "code",
     "checksum": "b96165e16eb107b9fe61bd1666b8842f",
     "grade": false,
     "grade_id": "cell-b56ecf8f0cfc8d58",
     "locked": false,
     "schema_version": 3,
     "solution": true
    }
   },
   "outputs": [],
   "source": [
    "from pddl.pddl_planner import PDDLPlanner\n",
    "import sys\n",
    "import queue\n",
    "\n",
    "\n",
    "class HeuristicPlanner(PDDLPlanner):\n",
    "    def __init__(self, heuristic=FastForwardHeuristic(), verbose=False, collect_stats=False):\n",
    "        super().__init__(verbose, collect_stats)\n",
    "        self.h = heuristic\n",
    "\n",
    "    # maybe I can use some kind of structure to control the level of the tree.\n",
    "    def solve(self, actions, state, goals):\n",
    "        \"\"\"\n",
    "            actions: list of grounded actions\n",
    "            state: initial state of the problem file\n",
    "            goals: tuple with (positive predicates, negative predicates) of the goal\n",
    "        \"\"\"\n",
    "        frontier = queue.PriorityQueue()\n",
    "\n",
    "        parent_state = {}\n",
    "        cost_state = {}\n",
    "        action_applied = {}\n",
    "\n",
    "        parent_state[state] = None\n",
    "        cost_state[state] = 0\n",
    "        action_applied[state] = None\n",
    "\n",
    "        frontier.put((0, state))\n",
    "\n",
    "        while not frontier.empty():\n",
    "            _, current_state = frontier.get()\n",
    "            cost_current_state = cost_state[current_state]\n",
    "\n",
    "            # Test whether the goals have been reached.\n",
    "            if goals[0].issubset(current_state):\n",
    "                # Get the backward path.\n",
    "                path = []\n",
    "                while action_applied[current_state]:\n",
    "                    path.append(action_applied[current_state])\n",
    "                    # current = parent\n",
    "                    current_state = parent_state[current_state]\n",
    "                path.reverse()\n",
    "                return path\n",
    "\n",
    "            for action in actions:\n",
    "                # Get actions applicable to current state.\n",
    "                if applicable(\n",
    "                    current_state, (action.positive_preconditions,\n",
    "                                    action.negative_preconditions),\n",
    "                ):\n",
    "                    new_state = apply(\n",
    "                        current_state, (action.add_effects, action.del_effects))\n",
    "                    heuristic_new_state = self.h(actions, new_state, goals)\n",
    "                    if heuristic_new_state == float(\"inf\"):\n",
    "                        # State non-reachable.\n",
    "                        continue\n",
    "                    # My cost is the same as the state depth in the search tree.\n",
    "                    cost_new_state = cost_current_state + 1\n",
    "                    # Add the new state to the frontier if the new state has never been visited before or\n",
    "                    # the cost of the new state is less than the same state visited before.\n",
    "                    if new_state not in cost_state or cost_new_state < cost_current_state:\n",
    "                        # The new state's priority is the cost to achieve the state plus the heuristic estimation to the goal.\n",
    "                        priority = cost_new_state + heuristic_new_state\n",
    "                        cost_state[new_state] = cost_new_state\n",
    "                        parent_state[new_state] = current_state\n",
    "                        action_applied[new_state] = action\n",
    "                        # Add the new state to the frontier with the state's priority.\n",
    "                        frontier.put((priority, new_state))\n",
    "        return None"
   ]
  },
  {
   "cell_type": "markdown",
   "metadata": {
    "deletable": false,
    "editable": false,
    "nbgrader": {
     "cell_type": "markdown",
     "checksum": "0785b88a9f787b68a5722b1b16edf7c2",
     "grade": false,
     "grade_id": "cell-82264e9b565f91ab",
     "locked": true,
     "schema_version": 3,
     "solution": false
    }
   },
   "source": [
    "## Test planner completeness and optimality\n",
    "Here we perform a simple test to verify if the lenght of the plan found by your implementation is step optimal. Please note, that this test does not verify if the plan is valid (but we are going to test this). You can use your own implementation of the validator to verify this (highly recommended)."
   ]
  },
  {
   "cell_type": "code",
   "execution_count": 49,
   "metadata": {
    "ExecuteTime": {
     "end_time": "2020-05-25T17:26:26.491359Z",
     "start_time": "2020-05-25T17:26:25.896047Z"
    },
    "deletable": false,
    "nbgrader": {
     "cell_type": "code",
     "checksum": "5ed72218e53bcc22bd82feaf741d5057",
     "grade": true,
     "grade_id": "cell-ba715b0523a236d4",
     "locked": true,
     "points": 0,
     "schema_version": 3,
     "solution": false
    }
   },
   "outputs": [
    {
     "name": "stdout",
     "output_type": "stream",
     "text": [
      "Expected 17, got: 19. False!\n",
      "0.5109000205993652\n",
      "Expected 0, got: 0. Correct!\n",
      "0\n",
      "Expected 12, got: 12. False!\n",
      "0.07457327842712402\n"
     ]
    }
   ],
   "source": [
    "# Reset to non-editable.\n",
    "dwr = \"examples/dwr/dwr.pddl\"\n",
    "pb1 = \"examples/dwr/pb1.pddl\"\n",
    "pb2 = \"examples/dwr/pb2.pddl\"\n",
    "\n",
    "blockblock = \"examples/blocksworld/blocksworld.pddl\"\n",
    "blockblock_pb7 = \"examples/blocksworld/pb7.pddl\"\n",
    "\n",
    "planner = HeuristicPlanner()\n",
    "\n",
    "plan, time = planner.solve_file(dwr, pb1)\n",
    "print(\"Expected 17, got:\", str(len(plan)) + (\". Correct!\" if len(plan) == 17 else \". False!\"))\n",
    "print(time)\n",
    "plan, time = planner.solve_file(dwr, pb2)\n",
    "print(\"Expected 0, got:\", str(len(plan)) + (\". Correct!\" if len(plan) == 0 else \". False!\"))\n",
    "print(time)\n",
    "plan, time = planner.solve_file(blockblock, blockblock_pb7)\n",
    "print(\"Expected 12, got:\", str(len(plan)) + (\". Correct!\" if len(plan) == 0 else \". False!\"))\n",
    "print(time)"
   ]
  },
  {
   "cell_type": "code",
   "execution_count": null,
   "metadata": {
    "deletable": false,
    "editable": false,
    "nbgrader": {
     "cell_type": "code",
     "checksum": "6ce33f7167fd96658924252e0cdeef50",
     "grade": true,
     "grade_id": "cell-dbd0daf27b261cca",
     "locked": true,
     "points": 0.5,
     "schema_version": 3,
     "solution": false
    }
   },
   "outputs": [],
   "source": []
  },
  {
   "cell_type": "code",
   "execution_count": null,
   "metadata": {
    "deletable": false,
    "editable": false,
    "nbgrader": {
     "cell_type": "code",
     "checksum": "86ea6ef0b4f4c4e5527e8f1e4c4f0268",
     "grade": true,
     "grade_id": "cell-c90509428ead7f70",
     "locked": true,
     "points": 0.5,
     "schema_version": 3,
     "solution": false
    }
   },
   "outputs": [],
   "source": []
  },
  {
   "cell_type": "code",
   "execution_count": null,
   "metadata": {
    "deletable": false,
    "editable": false,
    "nbgrader": {
     "cell_type": "code",
     "checksum": "4ad7cf46b6ce78423b324fc9cd6f64b5",
     "grade": true,
     "grade_id": "cell-49e25fc2323b7f89",
     "locked": true,
     "points": 1,
     "schema_version": 3,
     "solution": false
    }
   },
   "outputs": [],
   "source": []
  },
  {
   "cell_type": "markdown",
   "metadata": {
    "deletable": false,
    "editable": false,
    "nbgrader": {
     "cell_type": "markdown",
     "checksum": "055b0d7508398801181013533f7735b3",
     "grade": false,
     "grade_id": "cell-3178ca0ccf8bd085",
     "locked": true,
     "schema_version": 3,
     "solution": false
    }
   },
   "source": [
    "## Test planner output time\n",
    "\n",
    "Here we will test the output time of the implemented search function. The **maximum** acceptable output time is **60 seconds** for the given domains. Please consider that a good implementation should take less than 20 seconds (depending on the machine) for any of the given problems."
   ]
  },
  {
   "cell_type": "code",
   "execution_count": 17,
   "metadata": {
    "ExecuteTime": {
     "end_time": "2020-05-24T03:42:48.933828Z",
     "start_time": "2020-05-24T03:42:42.033590Z"
    },
    "deletable": false,
    "nbgrader": {
     "cell_type": "code",
     "checksum": "c07eca3f711fd6ebae434c43df578f51",
     "grade": true,
     "grade_id": "cell-1f9af625ea2fc997",
     "locked": true,
     "points": 0.33,
     "schema_version": 3,
     "solution": false
    }
   },
   "outputs": [
    {
     "name": "stdout",
     "output_type": "stream",
     "text": [
      "Elapsed time: 6.891653537750244 Passed!\n",
      "Elapsed time: 0 Passed!\n"
     ]
    }
   ],
   "source": [
    "# Reset to non-editable.\n",
    "dwr = \"examples/dwr/dwr.pddl\"\n",
    "pb1 = \"examples/dwr/pb1.pddl\"\n",
    "pb2 = \"examples/dwr/pb2.pddl\"\n",
    "planner = HeuristicPlanner()\n",
    "\n",
    "plan, time = planner.solve_file(dwr, pb1)\n",
    "print(\"Elapsed time:\", str(time) + (\" Passed!\" if time <= 60.0 else \" Timeout!\"))\n",
    "\n",
    "plan, time = planner.solve_file(dwr, pb2)\n",
    "print(\"Elapsed time:\", str(time) + (\" Passed!\" if time <= 60.0 else \" Timeout!\"))"
   ]
  },
  {
   "cell_type": "code",
   "execution_count": null,
   "metadata": {
    "deletable": false,
    "editable": false,
    "nbgrader": {
     "cell_type": "code",
     "checksum": "fd5d2b5cc253f07020f2eec1ebdf5032",
     "grade": true,
     "grade_id": "cell-378023d5732bd46a",
     "locked": true,
     "points": 0.33,
     "schema_version": 3,
     "solution": false
    }
   },
   "outputs": [],
   "source": []
  },
  {
   "cell_type": "code",
   "execution_count": null,
   "metadata": {
    "deletable": false,
    "editable": false,
    "nbgrader": {
     "cell_type": "code",
     "checksum": "fff035f2ad48581c752626125f34ee5a",
     "grade": true,
     "grade_id": "cell-d70a657a516ed349",
     "locked": true,
     "points": 0.34,
     "schema_version": 3,
     "solution": false
    }
   },
   "outputs": [],
   "source": []
  },
  {
   "cell_type": "markdown",
   "metadata": {
    "deletable": false,
    "editable": false,
    "nbgrader": {
     "cell_type": "markdown",
     "checksum": "cd6a8fb8bd20249e2ce3876cf5877bf7",
     "grade": false,
     "grade_id": "cell-65c57c3536e802ac",
     "locked": true,
     "schema_version": 3,
     "solution": false,
     "task": false
    }
   },
   "source": [
    "## Benchmark heuristic function (Optional)\n",
    "\n",
    "We can now compare various planning strategies more objectively than just using runtime.\n",
    "\n",
    "First, instrument your code with the following line immediately before the return statements of your search procedure (to collect the number of visited states):\n",
    "```python\n",
    "if self.stats is not None: self.stats.nodes = len(visited)\n",
    "```\n",
    "\n",
    "Then run the code below to see how your planner compares to the simplest BFS."
   ]
  },
  {
   "cell_type": "code",
   "execution_count": 18,
   "metadata": {
    "ExecuteTime": {
     "end_time": "2020-05-24T03:45:16.590200Z",
     "start_time": "2020-05-24T03:44:35.709279Z"
    },
    "deletable": false,
    "editable": false,
    "nbgrader": {
     "cell_type": "code",
     "checksum": "b2199a5b553d9dbe6442033650f21085",
     "grade": false,
     "grade_id": "cell-ee14d6bcba473cc3",
     "locked": true,
     "schema_version": 3,
     "solution": false,
     "task": false
    }
   },
   "outputs": [
    {
     "name": "stdout",
     "output_type": "stream",
     "text": [
      "Running MaxHeuristic problem 1\n",
      "Running MaxHeuristic problem 2\n",
      "Running MaxHeuristic problem 3\n",
      "Running MaxHeuristic problem 4\n",
      "Running MaxHeuristic problem 5\n",
      "Running MaxHeuristic problem 6\n",
      "Running MaxHeuristic problem 7\n",
      "Running AdditiveHeuristic problem 1\n",
      "Running AdditiveHeuristic problem 2\n",
      "Running AdditiveHeuristic problem 3\n",
      "Running AdditiveHeuristic problem 4\n",
      "Running AdditiveHeuristic problem 5\n",
      "Running AdditiveHeuristic problem 6\n",
      "Running AdditiveHeuristic problem 7\n",
      "Running FastForwardHeuristic problem 1\n",
      "Running FastForwardHeuristic problem 2\n",
      "Running FastForwardHeuristic problem 3\n",
      "Running FastForwardHeuristic problem 4\n",
      "Running FastForwardHeuristic problem 5\n",
      "Running FastForwardHeuristic problem 6\n",
      "Running FastForwardHeuristic problem 7\n"
     ]
    },
    {
     "data": {
      "image/png": "[encoded data removed]",
      "text/plain": [
       "<Figure size 432x288 with 1 Axes>"
      ]
     },
     "metadata": {
      "needs_background": "light"
     },
     "output_type": "display_data"
    },
    {
     "data": {
      "image/png": "[encoded data removed]",
      "text/plain": [
       "<Figure size 432x288 with 1 Axes>"
      ]
     },
     "metadata": {
      "needs_background": "light"
     },
     "output_type": "display_data"
    },
    {
     "data": {
      "image/png": "[encoded data removed]",
      "text/plain": [
       "<Figure size 432x288 with 1 Axes>"
      ]
     },
     "metadata": {
      "needs_background": "light"
     },
     "output_type": "display_data"
    },
    {
     "data": {
      "image/png": "[encoded data removed]",
      "text/plain": [
       "<Figure size 432x288 with 1 Axes>"
      ]
     },
     "metadata": {
      "needs_background": "light"
     },
     "output_type": "display_data"
    }
   ],
   "source": [
    "from pddl.bfs_planner import BFS_Planner\n",
    "# from pddl.heuristic_planner import HeuristicPlanner\n",
    "# from pddl.delete_relaxation_h import MaxHeuristic, AdditiveHeuristic, FastForwardHeuristic\n",
    "from pddl.benchmark import PlanningBenchmark, InstanceStats\n",
    "\n",
    "import matplotlib.pyplot as plt\n",
    "\n",
    "max_problems = 8\n",
    "\n",
    "benchmark = PlanningBenchmark()\n",
    "\n",
    "def run_heuristic_benchmark(benchmark, heuristic_class, max_problem=max_problems):\n",
    "    benchmark.reset_stats()\n",
    "    for i in range(1,max_problem):\n",
    "        heuristic = heuristic_class(stats=benchmark.get_instance(domain_name=\"examples/blocksworld/blocksworld.pddl\", problem_name=\"examples/blocksworld/pb%d.pddl\"%i ))\n",
    "        print(\"Running {!s} problem {!r}\".format(heuristic.__class__.__name__,i))\n",
    "        planner = HeuristicPlanner(heuristic=heuristic)\n",
    "        planner.collect_benchmark = True\n",
    "        planner.solve_file(\"examples/blocksworld/blocksworld.pddl\",\"examples/blocksworld/pb%d.pddl\"%i)\n",
    "    \n",
    "    hActions, hTime = benchmark.get_stats(\"examples/blocksworld/blocksworld.pddl\",xaxis=\"action\",stat=\"time\", approach=\"Heuristic\")\n",
    "    hProblem, hTime = benchmark.get_stats(\"examples/blocksworld/blocksworld.pddl\", xaxis=\"problem\", stat=\"time\", approach=\"Heuristic\")\n",
    "    hActions, hNodes = benchmark.get_stats(\"examples/blocksworld/blocksworld.pddl\", xaxis=\"action\", stat=\"nodes\",approach=\"Heuristic\")\n",
    "    hActions, hCalls = benchmark.get_stats(\"examples/blocksworld/blocksworld.pddl\", xaxis=\"action\", stat=\"h_calls\", approach=\"Heuristic\")\n",
    "    return hProblem, hActions, hTime, hNodes, hCalls\n",
    "\n",
    "\n",
    "def plot_time(actions, times, labels):\n",
    "    fig1 = plt.figure()\n",
    "    ax1 = fig1.add_subplot()\n",
    "    for i in range(len(actions)):\n",
    "        ax1.plot(actions[i], times[i], label = labels[i])\n",
    "    ax1.legend(loc=\"lower right\")\n",
    "    ax1.set_title(\"Time Performance\")\n",
    "    ax1.set_xlabel(\"Problem Actions\")\n",
    "    ax1.set_ylabel(\"Time (s)\")\n",
    "    ax1.legend(loc=2)\n",
    "    plt.show()\n",
    "    fig1.clear()\n",
    "    plt.close(fig1)\n",
    "    \n",
    "\n",
    "def plot_expansions(actions, nodes, labels):\n",
    "    fig2 = plt.figure()\n",
    "    ax2 = fig2.add_subplot()\n",
    "    for i in range(len(actions)):\n",
    "        ax2.plot(actions[i], nodes[i], label=labels[i])\n",
    "    ax2.legend(loc=\"lower right\")\n",
    "    ax2.set_title(\"Expanded Nodes\")\n",
    "    ax2.set_xlabel(\"Problem Actions\")\n",
    "    ax2.set_ylabel(\"Expanded Nodes\")\n",
    "    ax2.legend(loc=2)\n",
    "    plt.show()\n",
    "    fig2.clear()\n",
    "    plt.close(fig2)\n",
    "\n",
    "def plot_calls(actions, calls, labels):\n",
    "    fig4 = plt.figure()\n",
    "    ax4 = fig4.add_subplot()\n",
    "    for i in range(len(actions)):\n",
    "        ax4.plot(actions[i], calls[i], label=labels[i])\n",
    "    ax4.legend(loc=\"lower right\")\n",
    "    ax4.set_title(\"Heuristic Function Calls\")\n",
    "    ax4.set_xlabel(\"Problem Actions\")\n",
    "    ax4.set_ylabel(\"H Calls\")\n",
    "    ax4.legend(loc=2)\n",
    "    plt.show()\n",
    "    fig4.clear()\n",
    "    plt.close(fig4)\n",
    "\n",
    "def bar_times(problems, times, labels):\n",
    "    fig3 = plt.figure()\n",
    "    ax3 = fig3.add_subplot()\n",
    "\n",
    "    x = range(len(problems[0]))  # the label locations\n",
    "    bar_width = .7/len(problems)  # the width of the bars\n",
    "    bar_start = -.35\n",
    "\n",
    "    rectses = []\n",
    "    for i in range(len(problems)):\n",
    "        rectses.append(ax3.bar([xv + bar_start + bar_width*i for xv in x], times[i], bar_width, label=labels[i]))\n",
    "        \n",
    "    # Add some text for labels, title and custom x-axis tick labels, etc.\n",
    "    ax3.set_xlabel(\"Problem Name\")\n",
    "    ax3.set_ylabel(\"Time (s)\")\n",
    "    ax3.set_title(\"Problem\")\n",
    "    ax3.set_xticks(x)\n",
    "    ax3.set_xticklabels(problems[0])\n",
    "    ax3.legend()\n",
    "\n",
    "    def autolabel(rects):\n",
    "        \"\"\"Attach a text label above each bar in *rects*, displaying its height.\"\"\"\n",
    "        for rect in rects:\n",
    "            height = rect.get_height()\n",
    "            ax3.annotate(\"{:.4f}\".format(height),\n",
    "                        xy=(rect.get_x() + rect.get_width() / len(problems), height),\n",
    "                        xytext=(0, 3),  # 3 points vertical offset\n",
    "                        textcoords=\"offset points\",\n",
    "                        ha=\"center\", va=\"bottom\")\n",
    "    \n",
    "    for r in rectses:\n",
    "        autolabel(r)\n",
    "\n",
    "    fig3.tight_layout()\n",
    "    plt.show()\n",
    "    fig3.clear()\n",
    "    plt.close(fig3)\n",
    "    \n",
    "\n",
    "for i in range(1, max_problems):\n",
    "    planner = BFS_Planner()\n",
    "    planner.collect_benchmark = True\n",
    "    planner.solve_file(\"examples/blocksworld/blocksworld.pddl\", \"examples/blocksworld/pb%d.pddl\" % i)\n",
    "\n",
    "# benchmark.plot_stat(\"../examples/blocksworld/blocksworld.pddl\", xaxis=\"action\", stat=\"time\", approach=\"BFS\")\n",
    "# benchmark.plot_stat(\"../examples/blocksworld/blocksworld.pddl\", xaxis=\"problem\", stat=\"time\", approach=\"BFS\")\n",
    "\n",
    "hActions = []\n",
    "hTimes = []\n",
    "hNodes = []\n",
    "hCalls = []\n",
    "hProblems = []\n",
    "hApproaches = []\n",
    "\n",
    "hActionsBFS, hTimeBFS = benchmark.get_stats(\"examples/blocksworld/blocksworld.pddl\", xaxis=\"action\", stat=\"time\",\n",
    "                                      approach=\"BFS\")\n",
    "hProblemBFS, hTimeBFS = benchmark.get_stats(\"examples/blocksworld/blocksworld.pddl\", xaxis=\"problem\", stat=\"time\",\n",
    "                                      approach=\"BFS\")\n",
    "hActionsBFS, hNodesBFS = benchmark.get_stats(\"examples/blocksworld/blocksworld.pddl\", xaxis=\"action\", stat=\"nodes\",\n",
    "                                       approach=\"BFS\")\n",
    "hActionsBFS, hCallsBFS = benchmark.get_stats(\"examples/blocksworld/blocksworld.pddl\", xaxis=\"action\",\n",
    "                                       stat=\"h_calls\", approach=\"BFS\")\n",
    "\n",
    "# hActions.append(hActionsBFS)\n",
    "# hTimes.append(hTimeBFS)\n",
    "# hNodes.append(hNodesBFS)\n",
    "# hCalls.append(hCallsBFS)\n",
    "# hProblems.append(hProblemBFS)\n",
    "# hApproaches.append(\"BFS\")\n",
    "\n",
    "hProblemMax, hActionsMax, hTimeMax, hNodesMax, hCallsMax = run_heuristic_benchmark(benchmark, MaxHeuristic)\n",
    "hActions.append(hActionsMax)\n",
    "hTimes.append(hTimeMax)\n",
    "hNodes.append(hNodesMax)\n",
    "hCalls.append(hCallsMax)\n",
    "hProblems.append(hProblemMax)\n",
    "hApproaches.append(\"h_max\")\n",
    "\n",
    "hProblemAdd, hActionsAdd, hTimeAdd, hNodesAdd, hCallsAdd = run_heuristic_benchmark(benchmark, AdditiveHeuristic)\n",
    "hActions.append(hActionsAdd)\n",
    "hTimes.append(hTimeAdd)\n",
    "hNodes.append(hNodesAdd)\n",
    "hCalls.append(hCallsAdd)\n",
    "hProblems.append(hProblemAdd)\n",
    "hApproaches.append(\"h_add\")\n",
    "\n",
    "hProblemAdd, hActionsAdd, hTimeAdd, hNodesAdd, hCallsAdd = run_heuristic_benchmark(benchmark, FastForwardHeuristic)\n",
    "hActions.append(hActionsAdd)\n",
    "hTimes.append(hTimeAdd)\n",
    "hNodes.append(hNodesAdd)\n",
    "hCalls.append(hCallsAdd)\n",
    "hProblems.append(hProblemAdd)\n",
    "hApproaches.append(\"h_ff\")\n",
    "\n",
    "plot_time(hActions, hTimes, hApproaches)\n",
    "plot_expansions(hActions, hNodes, hApproaches)\n",
    "plot_calls(hActions, hCalls, hApproaches)\n",
    "bar_times(hProblems, hTimes, hApproaches)\n",
    "\n"
   ]
  },
  {
   "cell_type": "code",
   "execution_count": null,
   "metadata": {},
   "outputs": [],
   "source": [
    "## Plot your additional heuristics here"
   ]
  }
 ],
 "metadata": {
  "celltoolbar": "Edit Metadata",
  "kernelspec": {
   "display_name": "Python 3",
   "language": "python",
   "name": "python3"
  },
  "language_info": {
   "codemirror_mode": {
    "name": "ipython",
    "version": 3
   },
   "file_extension": ".py",
   "mimetype": "text/x-python",
   "name": "python",
   "nbconvert_exporter": "python",
   "pygments_lexer": "ipython3",
   "version": "3.8.3"
  },
  "toc": {
   "base_numbering": 1,
   "nav_menu": {},
   "number_sections": true,
   "sideBar": true,
   "skip_h1_title": false,
   "title_cell": "Table of Contents",
   "title_sidebar": "Contents",
   "toc_cell": false,
   "toc_position": {
    "height": "calc(100% - 180px)",
    "left": "10px",
    "top": "150px",
    "width": "384px"
   },
   "toc_section_display": true,
   "toc_window_display": true
  }
 },
 "nbformat": 4,
 "nbformat_minor": 2
}
